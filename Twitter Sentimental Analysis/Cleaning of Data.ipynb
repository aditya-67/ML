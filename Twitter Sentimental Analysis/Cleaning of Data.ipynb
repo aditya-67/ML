{
 "cells": [
  {
   "cell_type": "code",
   "execution_count": 32,
   "metadata": {},
   "outputs": [
    {
     "data": {
      "text/html": [
       "<div>\n",
       "<style scoped>\n",
       "    .dataframe tbody tr th:only-of-type {\n",
       "        vertical-align: middle;\n",
       "    }\n",
       "\n",
       "    .dataframe tbody tr th {\n",
       "        vertical-align: top;\n",
       "    }\n",
       "\n",
       "    .dataframe thead th {\n",
       "        text-align: right;\n",
       "    }\n",
       "</style>\n",
       "<table border=\"1\" class=\"dataframe\">\n",
       "  <thead>\n",
       "    <tr style=\"text-align: right;\">\n",
       "      <th></th>\n",
       "      <th>ItemID</th>\n",
       "      <th>Sentiment</th>\n",
       "      <th>SentimentText</th>\n",
       "    </tr>\n",
       "  </thead>\n",
       "  <tbody>\n",
       "    <tr>\n",
       "      <th>0</th>\n",
       "      <td>1</td>\n",
       "      <td>0</td>\n",
       "      <td>is so sad for my APL frie...</td>\n",
       "    </tr>\n",
       "    <tr>\n",
       "      <th>1</th>\n",
       "      <td>2</td>\n",
       "      <td>0</td>\n",
       "      <td>I missed the New Moon trail...</td>\n",
       "    </tr>\n",
       "    <tr>\n",
       "      <th>2</th>\n",
       "      <td>3</td>\n",
       "      <td>1</td>\n",
       "      <td>omg its already 7:30 :O</td>\n",
       "    </tr>\n",
       "    <tr>\n",
       "      <th>3</th>\n",
       "      <td>4</td>\n",
       "      <td>0</td>\n",
       "      <td>.. Omgaga. Im sooo  im gunna CRy. I'...</td>\n",
       "    </tr>\n",
       "    <tr>\n",
       "      <th>4</th>\n",
       "      <td>5</td>\n",
       "      <td>0</td>\n",
       "      <td>i think mi bf is cheating on me!!!   ...</td>\n",
       "    </tr>\n",
       "  </tbody>\n",
       "</table>\n",
       "</div>"
      ],
      "text/plain": [
       "   ItemID  Sentiment                                      SentimentText\n",
       "0       1          0                       is so sad for my APL frie...\n",
       "1       2          0                     I missed the New Moon trail...\n",
       "2       3          1                            omg its already 7:30 :O\n",
       "3       4          0            .. Omgaga. Im sooo  im gunna CRy. I'...\n",
       "4       5          0           i think mi bf is cheating on me!!!   ..."
      ]
     },
     "execution_count": 32,
     "metadata": {},
     "output_type": "execute_result"
    }
   ],
   "source": [
    "#Step 0: Basic Reading of data\n",
    "import pandas as pd\n",
    "pd.options.mode.chained_assignment = None\n",
    "train = pd.read_csv('train.csv',encoding='latin-1')\n",
    "train.head()"
   ]
  },
  {
   "cell_type": "code",
   "execution_count": 33,
   "metadata": {},
   "outputs": [
    {
     "data": {
      "text/html": [
       "<div>\n",
       "<style scoped>\n",
       "    .dataframe tbody tr th:only-of-type {\n",
       "        vertical-align: middle;\n",
       "    }\n",
       "\n",
       "    .dataframe tbody tr th {\n",
       "        vertical-align: top;\n",
       "    }\n",
       "\n",
       "    .dataframe thead th {\n",
       "        text-align: right;\n",
       "    }\n",
       "</style>\n",
       "<table border=\"1\" class=\"dataframe\">\n",
       "  <thead>\n",
       "    <tr style=\"text-align: right;\">\n",
       "      <th></th>\n",
       "      <th>ItemID</th>\n",
       "      <th>Sentiment</th>\n",
       "      <th>SentimentText</th>\n",
       "    </tr>\n",
       "  </thead>\n",
       "  <tbody>\n",
       "    <tr>\n",
       "      <th>99984</th>\n",
       "      <td>99996</td>\n",
       "      <td>0</td>\n",
       "      <td>@Cupcake  seems like a repeating problem   hop...</td>\n",
       "    </tr>\n",
       "    <tr>\n",
       "      <th>99985</th>\n",
       "      <td>99997</td>\n",
       "      <td>1</td>\n",
       "      <td>@cupcake__ arrrr we both replied to each other...</td>\n",
       "    </tr>\n",
       "    <tr>\n",
       "      <th>99986</th>\n",
       "      <td>99998</td>\n",
       "      <td>0</td>\n",
       "      <td>@CuPcAkE_2120 ya i thought so</td>\n",
       "    </tr>\n",
       "    <tr>\n",
       "      <th>99987</th>\n",
       "      <td>99999</td>\n",
       "      <td>1</td>\n",
       "      <td>@Cupcake_Dollie Yes. Yes. I'm glad you had mor...</td>\n",
       "    </tr>\n",
       "    <tr>\n",
       "      <th>99988</th>\n",
       "      <td>100000</td>\n",
       "      <td>1</td>\n",
       "      <td>@cupcake_kayla haha yes you do</td>\n",
       "    </tr>\n",
       "  </tbody>\n",
       "</table>\n",
       "</div>"
      ],
      "text/plain": [
       "       ItemID  Sentiment                                      SentimentText\n",
       "99984   99996          0  @Cupcake  seems like a repeating problem   hop...\n",
       "99985   99997          1  @cupcake__ arrrr we both replied to each other...\n",
       "99986   99998          0                     @CuPcAkE_2120 ya i thought so \n",
       "99987   99999          1  @Cupcake_Dollie Yes. Yes. I'm glad you had mor...\n",
       "99988  100000          1                    @cupcake_kayla haha yes you do "
      ]
     },
     "execution_count": 33,
     "metadata": {},
     "output_type": "execute_result"
    }
   ],
   "source": [
    "train.tail()"
   ]
  },
  {
   "cell_type": "code",
   "execution_count": 34,
   "metadata": {},
   "outputs": [
    {
     "name": "stdout",
     "output_type": "stream",
     "text": [
      "0                         is so sad for my APL frie...\n",
      "1                       I missed the New Moon trail...\n",
      "2                              omg its already 7:30 :O\n",
      "3              .. Omgaga. Im sooo  im gunna CRy. I'...\n",
      "4             i think mi bf is cheating on me!!!   ...\n",
      "Name: SentimentText, dtype: object\n",
      "0                          sad APL friend.............\n",
      "1                         I missed New Moon trailer...\n",
      "2                                  omg already 7:30 :O\n",
      "3    .. Omgaga. Im sooo im gunna CRy. I've dentist ...\n",
      "4                       think mi bf cheating me!!! T_T\n",
      "Name: Senti, dtype: object\n"
     ]
    }
   ],
   "source": [
    "#Step 1: Remove Stopwords\n",
    "import nltk\n",
    "from nltk.corpus import stopwords\n",
    "stopwords_en = stopwords.words(\"english\")\n",
    "short = train.head()\n",
    "print(short['SentimentText'])\n",
    "short['Senti'] = short['SentimentText'].apply(lambda x: ' '.join([word for word in x.split() if word not in stopwords_en]))\n",
    "print(short['Senti'])"
   ]
  },
  {
   "cell_type": "code",
   "execution_count": 36,
   "metadata": {},
   "outputs": [],
   "source": [
    "#Step 2:Remove Abbrevations\n",
    "import sys\n",
    "def translator(user_string):\n",
    "    user_string = user_string.split(\" \")\n",
    "    j = 0\n",
    "    for _str in user_string:\n",
    "        # File path which consists of Abbreviations.\n",
    "        fileName = \"slang.txt\"\n",
    "        # File Access mode [Read Mode]\n",
    "        accessMode = \"r\"\n",
    "        with open(fileName, accessMode) as myCSVfile:\n",
    "            # Reading file as CSV with delimiter as \"=\", so that abbreviation are stored in row[0] and phrases in row[1]\n",
    "            dataFromFile = csv.reader(myCSVfile, delimiter=\"=\")\n",
    "            # Removing Special Characters.\n",
    "            _str = re.sub('[^a-zA-Z0-9-_.]', '', _str)\n",
    "            for row in dataFromFile:\n",
    "                # Check if selected word matches short forms[LHS] in text file.\n",
    "                if _str.upper() == row[0]:\n",
    "                    # If match found replace it with its appropriate phrase in text file.\n",
    "                    user_string[j] = row[1]\n",
    "            myCSVfile.close()\n",
    "        j = j + 1\n",
    "    # Replacing commas with spaces for final output.\n",
    "    return ' '.join(user_string)"
   ]
  },
  {
   "cell_type": "code",
   "execution_count": 38,
   "metadata": {},
   "outputs": [
    {
     "name": "stdout",
     "output_type": "stream",
     "text": [
      "0                          sad APL friend.............\n",
      "1                         I missed New Moon trailer...\n",
      "2                            Oh My God already 7:30 :O\n",
      "3    .. Omgaga. Im sooo im gunna CRy. I've dentist ...\n",
      "4                       think mi bf cheating me!!! T_T\n",
      "Name: Senti_2, dtype: object\n"
     ]
    }
   ],
   "source": [
    "import csv,re\n",
    "#print(short['Senti'])\n",
    "short['Senti_2'] = short['Senti'].apply(lambda x: translator(x))\n",
    "print(short['Senti_2'])"
   ]
  },
  {
   "cell_type": "code",
   "execution_count": 39,
   "metadata": {},
   "outputs": [],
   "source": [
    "import nltk.data\n",
    "from nltk.stem.porter import *"
   ]
  },
  {
   "cell_type": "code",
   "execution_count": 41,
   "metadata": {},
   "outputs": [
    {
     "name": "stdout",
     "output_type": "stream",
     "text": [
      "0                          sad apl friend.............\n",
      "1                           I miss new moon trailer...\n",
      "2                            Oh My god alreadi 7:30 :O\n",
      "3    .. omgaga. Im sooo im gunna cry. i'v dentist s...\n",
      "4                          think mi bf cheat me!!! t_t\n",
      "Name: Senti_3, dtype: object\n"
     ]
    }
   ],
   "source": [
    "ps = PorterStemmer()\n",
    "short['Senti_3'] = short['Senti_2'].apply(lambda x: ' '.join([ps.stem(word) for word in x.split()]))\n",
    "print(short['Senti_3'])"
   ]
  },
  {
   "cell_type": "code",
   "execution_count": 44,
   "metadata": {},
   "outputs": [
    {
     "name": "stdout",
     "output_type": "stream",
     "text": [
      "[nltk_data] Downloading package wordnet to C:\\Users\\Aditya\n",
      "[nltk_data]     Gannavarapu\\AppData\\Roaming\\nltk_data...\n",
      "[nltk_data]   Unzipping corpora\\wordnet.zip.\n",
      "0                          sad APL friend.............\n",
      "1                         I missed New Moon trailer...\n",
      "2                            Oh My God already 7:30 :O\n",
      "3    .. Omgaga. Im sooo im gunna CRy. I've dentist ...\n",
      "4                       think mi bf cheating me!!! T_T\n",
      "Name: Senti_2, dtype: object\n",
      "-------Lemmazation--------\n",
      "0                          sad APL friend.............\n",
      "1                           I miss New Moon trailer...\n",
      "2                            Oh My God already 7:30 :O\n",
      "3    .. Omgaga. Im sooo im gunna CRy. I've dentist ...\n",
      "4                          think mi bf cheat me!!! T_T\n",
      "Name: Senti_4, dtype: object\n"
     ]
    }
   ],
   "source": [
    "# step 4 Lemmazation\n",
    "import nltk\n",
    "Z#nltk.download('wordnet')\n",
    "from nltk.stem.wordnet import WordNetLemmatizer\n",
    "lmtzr = WordNetLemmatizer()\n",
    "print(short['Senti_2'])\n",
    "print('-------Lemmazation--------')\n",
    "short['Senti_4'] = short['Senti_2'].apply(lambda x: ' '.join([lmtzr.lemmatize(word,'v') for word in x.split() ]))\n",
    "print(short['Senti_4'])\n"
   ]
  },
  {
   "cell_type": "code",
   "execution_count": 47,
   "metadata": {},
   "outputs": [
    {
     "name": "stdout",
     "output_type": "stream",
     "text": [
      "0                          sad APL friend.............\n",
      "1                         I missed New Moon trailer...\n",
      "2                            Oh My God already 7:30 :O\n",
      "3    .. Omgaga. Im sooo im gunna CRy. I've dentist ...\n",
      "4                       think mi bf cheating me!!! T_T\n",
      "Name: Senti_2, dtype: object\n",
      "0    [(sad, JJ), (APL, NNP), (friend, NN), (..., :)...\n",
      "1    [(I, PRP), (missed, VBD), (New, NNP), (Moon, N...\n",
      "2    [(Oh, UH), (My, NNP), (God, NNP), (already, RB...\n",
      "3    [(.., JJ), (Omgaga, NNP), (., .), (Im, NNP), (...\n",
      "4    [(think, VB), (mi, NNS), (bf, IN), (cheating, ...\n",
      "Name: Senti_5, dtype: object\n"
     ]
    }
   ],
   "source": [
    "# step 5 Parts of Speech\n",
    "print(short['Senti_2'])\n",
    "short['Senti_5'] = short['Senti_2'].apply(lambda x: nltk.pos_tag(nltk.word_tokenize(x)))\n",
    "print(short['Senti_5'])"
   ]
  },
  {
   "cell_type": "code",
   "execution_count": null,
   "metadata": {},
   "outputs": [],
   "source": []
  }
 ],
 "metadata": {
  "kernelspec": {
   "display_name": "Python 3",
   "language": "python",
   "name": "python3"
  },
  "language_info": {
   "codemirror_mode": {
    "name": "ipython",
    "version": 3
   },
   "file_extension": ".py",
   "mimetype": "text/x-python",
   "name": "python",
   "nbconvert_exporter": "python",
   "pygments_lexer": "ipython3",
   "version": "3.6.5"
  }
 },
 "nbformat": 4,
 "nbformat_minor": 2
}
