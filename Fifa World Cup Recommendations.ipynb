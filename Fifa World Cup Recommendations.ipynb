{
  "cells": [
    {
      "metadata": {
        "_uuid": "8f2839f25d086af736a60e9eeb907d3b93b6e0e5",
        "_cell_guid": "b1076dfc-b9ad-4769-8c92-a6c4dae69d19",
        "trusted": true
      },
      "cell_type": "code",
      "source": "\nimport pandas as pd\nimport numpy as np\nimport matplotlib.pyplot as plt\nimport seaborn as sns\nimport matplotlib.ticker as ticker\nimport matplotlib.ticker as plticker\nfrom sklearn.model_selection import train_test_split\nfrom sklearn.linear_model import LogisticRegression",
      "execution_count": null,
      "outputs": []
    },
    {
      "metadata": {
        "_cell_guid": "79c7e3d0-c299-4dcb-8224-4455121ee9b0",
        "_uuid": "d629ff2d2480ee46fbb7e2d37f6b5fab8052498a",
        "trusted": true
      },
      "cell_type": "code",
      "source": "results = pd.read_csv('../input/results.csv')\nworld_cup = pd.read_csv('../input/World Cup 2018 Dataset.csv')\nworld_cup.head()",
      "execution_count": null,
      "outputs": []
    },
    {
      "metadata": {
        "trusted": true,
        "_uuid": "0dc277bf6123b28487321f5430a9e50cad3d3892"
      },
      "cell_type": "code",
      "source": "results.head()",
      "execution_count": null,
      "outputs": []
    },
    {
      "metadata": {
        "trusted": true,
        "_uuid": "a2cb2e480f97d58fe864de309c290793d647e253"
      },
      "cell_type": "code",
      "source": "winner = []\nfor i in range (len(results['home_team'])):\n    if results ['home_score'][i] > results['away_score'][i]:\n        winner.append(results['home_team'][i])\n    elif results['home_score'][i] < results ['away_score'][i]:\n        winner.append(results['away_team'][i])\n    else:\n        winner.append('Draw')\nresults['winning_team'] = winner\n\n#adding goal difference column\nresults['goal_difference'] = np.absolute(results['home_score'] - results['away_score'])\n\nresults.head()",
      "execution_count": null,
      "outputs": []
    },
    {
      "metadata": {
        "trusted": true,
        "_uuid": "1ddda410713a7c76f064d3c6c18797412be3fec1"
      },
      "cell_type": "code",
      "source": "teams = [t for t in world_cup['Team']]\nteams = teams[:-1]\npoints_table = pd.DataFrame(teams,columns=['Team'])\npoints_table['Points'] = 0\ngroups = [g for g in world_cup['Group']]\ngroups = groups[:-1]\npoints_table['Group'] = [g for g in groups]\npoints_table = points_table.reset_index(drop=True)\npoints_table['Team'][30] = \"Colombia\"\npoints_table['Team'][4] = \"Portugal\"\npoints_table['Team'][7] = \"Iran\"\npoints_table.head(10)",
      "execution_count": null,
      "outputs": []
    },
    {
      "metadata": {
        "trusted": true,
        "_uuid": "ba2cc27b192513a9bd530e6647083efb6da6a4f1"
      },
      "cell_type": "code",
      "source": "df_home = results[results['home_team'].isin(teams)]\ndf_away = results[results['away_team'].isin(teams)]\ndf_teams = pd.concat((df_home, df_away))\ndf_teams.drop_duplicates()\ndf_teams.count()",
      "execution_count": null,
      "outputs": []
    },
    {
      "metadata": {
        "trusted": true,
        "_uuid": "70d6a309b8f2093b83f39af4487ba58087bc6931"
      },
      "cell_type": "code",
      "source": "year = []\nfor row in df_teams['date']:\n    year.append(int(row[:4]))\ndf_teams['match_year'] = year\ndf_teams_1930 = df_teams[df_teams.match_year >= 1930]\ndf_teams_1930 = df_teams.drop(['date', 'home_score', 'away_score', 'tournament', 'city', 'country', 'goal_difference', 'match_year'], axis=1)\ndf_teams_1930.head()\n",
      "execution_count": null,
      "outputs": []
    },
    {
      "metadata": {
        "trusted": true,
        "_uuid": "ed31070daef1a29f4f61f294790c4627764233b0"
      },
      "cell_type": "code",
      "source": "\ndf_teams_1930 = df_teams_1930.reset_index(drop=True)\ndf_teams_1930.loc[df_teams_1930.winning_team == df_teams_1930.home_team,'winning_team']=2\ndf_teams_1930.loc[df_teams_1930.winning_team == 'Draw', 'winning_team']=1\ndf_teams_1930.loc[df_teams_1930.winning_team == df_teams_1930.away_team, 'winning_team']=0\n\ndf_teams_1930.tail()",
      "execution_count": null,
      "outputs": []
    },
    {
      "metadata": {
        "trusted": true,
        "_uuid": "9a94c9e7134df647e3d1533556dda0168bf10ef6"
      },
      "cell_type": "code",
      "source": "final = pd.get_dummies(df_teams_1930, prefix=['home_team', 'away_team'], columns=['home_team', 'away_team'])\n\n# Separate X and y sets\nX = final.drop(['winning_team'], axis=1)\ny = final[\"winning_team\"]\ny = y.astype('int')\n\n# Separate train and test sets\nX_train, X_test, y_train, y_test = train_test_split(X, y, test_size=0.30, random_state=42)",
      "execution_count": null,
      "outputs": []
    },
    {
      "metadata": {
        "trusted": true,
        "_uuid": "f369c191217cacde5846fa636457d7425c1cfdfa"
      },
      "cell_type": "code",
      "source": "logreg = LogisticRegression()\nlogreg.fit(X_train, y_train)\nscore = logreg.score(X_train, y_train)\nscore2 = logreg.score(X_test, y_test)\n\nprint(\"Training set accuracy: \", '%.3f'%(score))\nprint(\"Test set accuracy: \", '%.3f'%(score2))",
      "execution_count": null,
      "outputs": []
    },
    {
      "metadata": {
        "trusted": true,
        "_uuid": "dcb4b5b703c77c82847f894afca719db80df3cae"
      },
      "cell_type": "code",
      "source": "ranking = pd.read_csv('../input/fifa_rankings.csv')\nfixtures = pd.read_csv('../input/fixtures.csv')",
      "execution_count": null,
      "outputs": []
    },
    {
      "metadata": {
        "trusted": true,
        "_uuid": "758fe71da0ceaff8a71f02b333dc2e554aa9bb56"
      },
      "cell_type": "code",
      "source": "fixtures.insert(1, 'first_position', fixtures['Home Team'].map(ranking.set_index('Team')['Position']))\nfixtures.insert(2, 'second_position', fixtures['Away Team'].map(ranking.set_index('Team')['Position']))\n\n# We only need the group stage games, so we have to slice the dataset\nfixtures = fixtures.iloc[:48, :]\nfixtures.head()",
      "execution_count": null,
      "outputs": []
    },
    {
      "metadata": {
        "trusted": true,
        "_uuid": "f4b685ba366da832e6253f26020279fa61ebf7ea"
      },
      "cell_type": "code",
      "source": "pred_set = []\nfor index, row in fixtures.iterrows():\n    if row['first_position'] < row['second_position']:\n        pred_set.append({'home_team': row['Home Team'], 'away_team': row['Away Team'], 'winning_team': None})\n    else:\n        pred_set.append({'home_team': row['Away Team'], 'away_team': row['Home Team'], 'winning_team': None})\n        \npred_set = pd.DataFrame(pred_set)\nbackup_pred_set = pred_set\n\npred_set.head()",
      "execution_count": null,
      "outputs": []
    },
    {
      "metadata": {
        "trusted": true,
        "scrolled": true,
        "_uuid": "bba601d9e89cc1bf225522413fba1b996ceef0a9"
      },
      "cell_type": "code",
      "source": "pred_set = pd.get_dummies(pred_set, prefix=['home_team', 'away_team'], columns=['home_team', 'away_team'])\nmissing_cols = set(final.columns) - set(pred_set.columns)\nfor c in missing_cols:\n    pred_set[c] = 0\npred_set = pred_set[final.columns]\n\n# Remove winning team column\npred_set = pred_set.drop(['winning_team'], axis=1)",
      "execution_count": null,
      "outputs": []
    },
    {
      "metadata": {
        "trusted": true,
        "_uuid": "8990e266623ee0189d3c0fbefac3da7df3489b6f",
        "scrolled": false
      },
      "cell_type": "code",
      "source": "predictions = logreg.predict(pred_set)\nfor i in range(fixtures.shape[0]):\n    print(backup_pred_set.iloc[i, 1] + \" and \" + backup_pred_set.iloc[i, 0])\n    if predictions[i] == 2:\n        print(\"Winner: \" + backup_pred_set.iloc[i, 1])\n        points_table.loc[points_table.Team == backup_pred_set.iloc[i, 1] , 'Points'] += 3\n    elif predictions[i] == 1:\n        print(\"Draw\")\n        points_table.loc[points_table.Team == backup_pred_set.iloc[i, 0] , 'Points'] += 1\n        points_table.loc[points_table.Team == backup_pred_set.iloc[i, 1] , 'Points'] += 1\n    elif predictions[i] == 0:\n        print(\"Winner: \" + backup_pred_set.iloc[i, 0])\n        points_table.loc[points_table.Team == backup_pred_set.iloc[i, 0] , 'Points'] += 3\n    print('Probability of ' + backup_pred_set.iloc[i, 1] + ' winning: ', '%.3f'%(logreg.predict_proba(pred_set)[i][2]))\n    print('Probability of Draw: ', '%.3f'%(logreg.predict_proba(pred_set)[i][1]))\n    print('Probability of ' + backup_pred_set.iloc[i, 0] + ' winning: ', '%.3f'%(logreg.predict_proba(pred_set)[i][0]))\n    print(\"\")\ngrouped_df = points_table.groupby('Group')\nfor key, item in grouped_df:\n    print(grouped_df.get_group(key), \"\\n\\n\")",
      "execution_count": null,
      "outputs": []
    },
    {
      "metadata": {
        "trusted": true,
        "_uuid": "eb51e7428eb958e4c36a6f5b60ecab742f832751"
      },
      "cell_type": "code",
      "source": "\n    ",
      "execution_count": null,
      "outputs": []
    },
    {
      "metadata": {
        "trusted": true,
        "_uuid": "ca98e9c0d6b4df26ba6e73bbd4398326b877ac05"
      },
      "cell_type": "code",
      "source": "first_place = []\nsecond_place = []\nknockout = {}\ngroup_16 = []\nfor i in range(8):\n    t = list(list(grouped_df)[i][1]['Team'])\n    p = list(list(grouped_df)[i][1]['Points'])\n    for j in range(len(t)):\n        knockout[t[j]] = p[j]\n        if(j % 3 == 0 and j!=0):\n            p = sorted(knockout.items(), key=lambda x: x[1],reverse=True)\n            first_place.append(p[0][0])\n            second_place.append(p[1][0])\n            knockout = {}\ndef my_range(start, end, step):\n    while start <= end:\n        yield start\n        start += step\n        \nfor i in my_range(0, len(second_place)-1, 2):\n    temp = second_place[i+1]\n    second_place[i+1] = second_place[i]\n    second_place[i] = temp\ngroup_16 = list(zip(first_place,second_place))\n",
      "execution_count": null,
      "outputs": []
    },
    {
      "metadata": {
        "trusted": true,
        "_uuid": "7aa83ee9004994584aa9e58f165e04cfda5e2970"
      },
      "cell_type": "code",
      "source": "def clean_and_predict(matches, ranking, final, logreg):\n\n    # Initialization of auxiliary list for data cleaning\n    positions = []\n    group = []\n    # Loop to retrieve each team's position according to FIFA ranking\n    for match in matches:\n        positions.append(ranking.loc[ranking['Team'] == match[0],'Position'].iloc[0])\n        positions.append(ranking.loc[ranking['Team'] == match[1],'Position'].iloc[0])\n    \n    # Creating the DataFrame for prediction\n    pred_set = []\n\n    # Initializing iterators for while loop\n    i = 0\n    j = 0\n\n    # 'i' will be the iterator for the 'positions' list, and 'j' for the list of matches (list of tuples)\n    while i < len(positions):\n        dict1 = {}\n\n        # If position of first team is better, he will be the 'home' team, and vice-versa\n        if positions[i] < positions[i + 1]:\n            dict1.update({'home_team': matches[j][0], 'away_team': matches[j][1]})\n        else:\n            dict1.update({'home_team': matches[j][1], 'away_team': matches[j][0]})\n\n        # Append updated dictionary to the list, that will later be converted into a DataFrame\n        pred_set.append(dict1)\n        i += 2\n        j += 1\n\n    # Convert list into DataFrame\n    pred_set = pd.DataFrame(pred_set)\n    backup_pred_set = pred_set\n\n    # Get dummy variables and drop winning_team column\n    pred_set = pd.get_dummies(pred_set, prefix=['home_team', 'away_team'], columns=['home_team', 'away_team'])\n\n    # Add missing columns compared to the model's training dataset\n    missing_cols2 = set(final.columns) - set(pred_set.columns)\n    for c in missing_cols2:\n        pred_set[c] = 0\n    pred_set = pred_set[final.columns]\n\n    # Remove winning team column\n    pred_set = pred_set.drop(['winning_team'], axis=1)\n\n    # Predict!\n    predictions = logreg.predict(pred_set)\n    for i in range(len(pred_set)):\n        print(backup_pred_set.iloc[i, 1] + \" and \" + backup_pred_set.iloc[i, 0])\n        if predictions[i] == 2:\n            print(\"Winner: \" + backup_pred_set.iloc[i, 1])\n            group.append(backup_pred_set.iloc[i, 1])\n        elif predictions[i] == 1:\n            print(\"Draw\")\n        elif predictions[i] == 0:\n            print(\"Winner: \" + backup_pred_set.iloc[i, 0])\n            group.append(backup_pred_set.iloc[i, 0])\n        print('Probability of ' + backup_pred_set.iloc[i, 1] + ' winning: ' , '%.3f'%(logreg.predict_proba(pred_set)[i][2]))\n        print('Probability of Draw: ', '%.3f'%(logreg.predict_proba(pred_set)[i][1])) \n        print('Probability of ' + backup_pred_set.iloc[i, 0] + ' winning: ', '%.3f'%(logreg.predict_proba(pred_set)[i][0]))\n        print(\"\")\n    return group",
      "execution_count": null,
      "outputs": []
    },
    {
      "metadata": {
        "trusted": true,
        "_uuid": "00ce5924f61523ecd25206f4913cffb29be6d22b"
      },
      "cell_type": "code",
      "source": "\ngroup_8 = clean_and_predict(group_16, ranking, final, logreg)",
      "execution_count": null,
      "outputs": []
    },
    {
      "metadata": {
        "trusted": true,
        "_uuid": "ec50bc62f7a7c23b1e48ed90a7407119e619cdb6"
      },
      "cell_type": "code",
      "source": "group_8",
      "execution_count": null,
      "outputs": []
    },
    {
      "metadata": {
        "trusted": true,
        "_uuid": "4f0287ef811bb3949cc4b1532d3f88f43bb92dd7"
      },
      "cell_type": "code",
      "source": "temp1 = []\ntemp2 = []\nfor i in range(len(group_8)):\n    if(i < len(group_8)/2):\n        j = i/2\n        if(j>=1):\n            temp2.append(group_8[i])\n        else:\n            temp1.append(group_8[i])\n    else:\n        j = i/2\n        if(j>=2 and j<3):\n            temp1.append(group_8[i])\n        else:\n            temp2.append(group_8[i])\n\nquarters = list(zip(temp1,temp2))\nprint(quarters)",
      "execution_count": null,
      "outputs": []
    },
    {
      "metadata": {
        "trusted": true,
        "_uuid": "70a0ef661c2bf687d29f07f8a386878e35173c08"
      },
      "cell_type": "code",
      "source": "group_4 = clean_and_predict(quarters, ranking, final, logreg)",
      "execution_count": null,
      "outputs": []
    },
    {
      "metadata": {
        "trusted": true,
        "_uuid": "acb56a71cc7195a70f265a185629569e29b8abda"
      },
      "cell_type": "code",
      "source": "a = [group_4[0],group_4[1]]\nb  = [group_4[2],group_4[3]]\nsemi = list(zip(a,b))\nprint(semi)",
      "execution_count": null,
      "outputs": []
    },
    {
      "metadata": {
        "trusted": true,
        "_uuid": "a5433acdfce8d09a90abe993072752b174acaf1b"
      },
      "cell_type": "code",
      "source": "group_2 = clean_and_predict(semi, ranking, final, logreg)",
      "execution_count": null,
      "outputs": []
    },
    {
      "metadata": {
        "trusted": true,
        "_uuid": "58d9d3db52cf2ee6b47d3db82e993f36e8424fb3"
      },
      "cell_type": "code",
      "source": "finals = [(group_2[0],group_2[1])]\nprint(finals)",
      "execution_count": null,
      "outputs": []
    },
    {
      "metadata": {
        "trusted": true,
        "_uuid": "de7dd48ebba0c246499f1d3212976fc767e4a4fb"
      },
      "cell_type": "code",
      "source": "winner = clean_and_predict(finals, ranking, final, logreg)",
      "execution_count": null,
      "outputs": []
    },
    {
      "metadata": {
        "trusted": true,
        "_uuid": "d0917c9435cc356c02d223b6714437ea70c5fa22"
      },
      "cell_type": "code",
      "source": "print(\"Our Predicted Winner is\",winner[0])",
      "execution_count": null,
      "outputs": []
    },
    {
      "metadata": {
        "trusted": true,
        "_uuid": "2831990a6ebc561c02c3d86081816cc0a17f8a7b"
      },
      "cell_type": "code",
      "source": "",
      "execution_count": null,
      "outputs": []
    }
  ],
  "metadata": {
    "kernelspec": {
      "display_name": "Python 3",
      "language": "python",
      "name": "python3"
    },
    "language_info": {
      "name": "python",
      "version": "3.6.6",
      "mimetype": "text/x-python",
      "codemirror_mode": {
        "name": "ipython",
        "version": 3
      },
      "pygments_lexer": "ipython3",
      "nbconvert_exporter": "python",
      "file_extension": ".py"
    }
  },
  "nbformat": 4,
  "nbformat_minor": 1
}