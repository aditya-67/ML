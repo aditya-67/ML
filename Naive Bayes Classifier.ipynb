{
  "cells": [
    {
      "metadata": {
        "_uuid": "6eff566a6e93f2ad5980dd42f2c49a114f22609a"
      },
      "cell_type": "markdown",
      "source": "Implenting Naive Bayes Classifier.\nThis is just a walk-through on how NB classifier works and how it's implemented."
    },
    {
      "metadata": {
        "_uuid": "8f2839f25d086af736a60e9eeb907d3b93b6e0e5",
        "_cell_guid": "b1076dfc-b9ad-4769-8c92-a6c4dae69d19",
        "trusted": true
      },
      "cell_type": "code",
      "source": "import pandas as pd\nimport numpy as np\ndata = pd.read_csv('../input/spam.csv',encoding=\"latin-1\")",
      "execution_count": null,
      "outputs": []
    },
    {
      "metadata": {
        "_uuid": "b6c8af36c11e1c0bd1c906315d0ce6a1bcd4d577"
      },
      "cell_type": "markdown",
      "source": "This data needs a lot of Pre-Processing. We need to convert the SMS data to a list of words."
    },
    {
      "metadata": {
        "_cell_guid": "79c7e3d0-c299-4dcb-8224-4455121ee9b0",
        "_uuid": "d629ff2d2480ee46fbb7e2d37f6b5fab8052498a",
        "trusted": true
      },
      "cell_type": "code",
      "source": "total = 0\nnum_spam = 0\ntrainPositive = {}\ntrainNegative = {}\npositiveTotal = 0\nnegativeTotal = 0\nfor sms in data.values:\n    if sms[0] == \"spam\":\n        num_spam+=1\n    total+=1\n    for word in sms[1]:\n        if sms[0] == \"ham\":\n            trainPositive[word] = trainPositive.get(word,0) + 1\n            positiveTotal+=1\n        else:\n            trainNegative[word] = trainNegative.get(word,0) + 1\n            negativeTotal+=1\np_spam = num_spam/float(total)\np_ham = (total - num_spam)/float(total)",
      "execution_count": null,
      "outputs": []
    },
    {
      "metadata": {
        "trusted": true,
        "_uuid": "925adb4538c8c207a53d43fe0e936177c07b5d75"
      },
      "cell_type": "code",
      "source": "def Word(word, spam):\n    if spam:\n        return trainPositive[word]/float(positiveTotal)\n    return trainNegative[word]/float(negativeTotal)",
      "execution_count": null,
      "outputs": []
    },
    {
      "metadata": {
        "trusted": true,
        "_uuid": "5d376f948034c41c354a7241a6336a4a635dbf12"
      },
      "cell_type": "code",
      "source": "def SMS(body, spam):\n    result = 1.0\n    for word in body:\n        r = Word(word, spam)\n        if(r>0):\n            result *= r\n    return result",
      "execution_count": null,
      "outputs": []
    },
    {
      "metadata": {
        "trusted": true,
        "_uuid": "6f7e81f9184ae788fdf550087cf3345f8bf641e9"
      },
      "cell_type": "code",
      "source": "def classify(sms):\n    isSpam = p_spam * SMS(sms, True) # P (A | B)\n    notSpam = p_ham * SMS(sms, False) # P(¬A | B)\n    if(isSpam > notSpam):\n        print(\"Spam\")\n    else:\n        print(\"Not Spam\")",
      "execution_count": null,
      "outputs": []
    },
    {
      "metadata": {
        "trusted": true,
        "_uuid": "2b7c8c5f2a365eadf57aea2acc245f361d4026a6"
      },
      "cell_type": "code",
      "source": "classify(\"Random Text\")",
      "execution_count": null,
      "outputs": []
    },
    {
      "metadata": {
        "trusted": true,
        "_uuid": "79fc1eac358e8ae4d5e83c06458478edcd697109"
      },
      "cell_type": "code",
      "source": "",
      "execution_count": null,
      "outputs": []
    },
    {
      "metadata": {
        "trusted": true,
        "_uuid": "891228e484d5d4e7c004743c6dcc59f232227625"
      },
      "cell_type": "code",
      "source": "",
      "execution_count": null,
      "outputs": []
    }
  ],
  "metadata": {
    "kernelspec": {
      "display_name": "Python 3",
      "language": "python",
      "name": "python3"
    },
    "language_info": {
      "name": "python",
      "version": "3.6.6",
      "mimetype": "text/x-python",
      "codemirror_mode": {
        "name": "ipython",
        "version": 3
      },
      "pygments_lexer": "ipython3",
      "nbconvert_exporter": "python",
      "file_extension": ".py"
    }
  },
  "nbformat": 4,
  "nbformat_minor": 1
}