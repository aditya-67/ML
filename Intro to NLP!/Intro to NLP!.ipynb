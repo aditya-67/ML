{
 "cells": [
  {
   "cell_type": "markdown",
   "metadata": {},
   "source": [
    "INTRO TO NATURAL LANGUAGE PROCESSING"
   ]
  },
  {
   "cell_type": "code",
   "execution_count": 3,
   "metadata": {},
   "outputs": [
    {
     "name": "stdout",
     "output_type": "stream",
     "text": [
      "Amazon.com, Inc. ORG\n",
      "Amazon ORG\n",
      "American NORP\n",
      "Seattle GPE\n",
      "Washington GPE\n",
      "Jeff Bezos PERSON\n",
      "July 5, 1994 DATE\n",
      "second ORDINAL\n",
      "Alibaba Group ORG\n",
      "amazon.com ORG\n",
      "Kindle e- PRODUCT\n",
      "Fire TV ORG\n",
      "Echo  PRODUCT\n",
      "PaaS ORG\n",
      "Amazon ORG\n",
      "AmazonBasics ORG\n"
     ]
    }
   ],
   "source": [
    "import spacy\n",
    "\n",
    "### Load spaCy's English NLP model\n",
    "nlp = spacy.load('en')\n",
    "\n",
    "### The text we want to examine\n",
    "text = \"Amazon.com, Inc., doing business as Amazon, is an American electronic commerce and cloud computing company based in Seattle, Washington, that was founded by Jeff Bezos on July 5, 1994. The tech giant is the largest Internet retailer in the world as measured by revenue and market capitalization, and second largest after Alibaba Group in terms of total sales. The amazon.com website started as an online bookstore and later diversified to sell video downloads/streaming, MP3 downloads/streaming, audiobook downloads/streaming, software, video games, electronics, apparel, furniture, food, toys, and jewelry. The company also produces consumer electronics - Kindle e-readers, Fire tablets, Fire TV, and Echo - and is the world's largest provider of cloud infrastructure services (IaaS and PaaS). Amazon also sells certain low-end products under its in-house brand AmazonBasics.\"\n",
    "\n",
    "### Parse the text with spaCy\n",
    "### Our 'document' variable now contains a parsed version of text.\n",
    "document = nlp(text)\n",
    "\n",
    "### print out all the named entities that were detected\n",
    "for entity in document.ents:\n",
    "    print(entity.text, entity.label_)"
   ]
  },
  {
   "cell_type": "code",
   "execution_count": 4,
   "metadata": {},
   "outputs": [
    {
     "name": "stdout",
     "output_type": "stream",
     "text": [
      "[PRIVATE] , doing business as [PRIVATE] , is an American electronic commerce and cloud computing company based in Seattle, Washington, that was founded by [PRIVATE] on July 5, 1994. The tech giant is the largest Internet retailer in the world as measured by revenue and market capitalization, and second largest after [PRIVATE] in terms of total sales. The [PRIVATE] website started as an online bookstore and later diversified to sell video downloads/streaming, MP3 downloads/streaming, audiobook downloads/streaming, software, video games, electronics, apparel, furniture, food, toys, and jewelry. The company also produces consumer electronics - Kindle e-readers, Fire tablets, [PRIVATE] , and Echo - and is the world's largest provider of cloud infrastructure services (IaaS and [PRIVATE] ). [PRIVATE] also sells certain low-end products under its in-house brand [PRIVATE] .\n"
     ]
    }
   ],
   "source": [
    "import spacy\n",
    "\n",
    "### Load spaCy's English NLP model\n",
    "nlp = spacy.load('en')\n",
    "\n",
    "### The text we want to examine\n",
    "text = \"Amazon.com, Inc., doing business as Amazon, is an American electronic commerce and cloud computing company based in Seattle, Washington, that was founded by Jeff Bezos on July 5, 1994. The tech giant is the largest Internet retailer in the world as measured by revenue and market capitalization, and second largest after Alibaba Group in terms of total sales. The amazon.com website started as an online bookstore and later diversified to sell video downloads/streaming, MP3 downloads/streaming, audiobook downloads/streaming, software, video games, electronics, apparel, furniture, food, toys, and jewelry. The company also produces consumer electronics - Kindle e-readers, Fire tablets, Fire TV, and Echo - and is the world's largest provider of cloud infrastructure services (IaaS and PaaS). Amazon also sells certain low-end products under its in-house brand AmazonBasics.\"\n",
    "\n",
    "\n",
    "### Replace a specific entity with the word \"PRIVATE\"\n",
    "def replace_entity_with_placeholder(token):\n",
    "    if token.ent_iob != 0 and (token.ent_type_ == \"PERSON\" or token.ent_type_ == \"ORG\"):\n",
    "        return \"[PRIVATE] \"\n",
    "    else:\n",
    "        return token.string\n",
    "\n",
    "### Loop through all the entities in a piece of text and apply entity replacement\n",
    "def scrub(text):\n",
    "    doc = nlp(text)\n",
    "    for ent in doc.ents:\n",
    "        ent.merge()\n",
    "    tokens = map(replace_entity_with_placeholder, doc)\n",
    "    return \"\".join(tokens)\n",
    "\n",
    "\n",
    "print(scrub(text))"
   ]
  },
  {
   "cell_type": "code",
   "execution_count": 8,
   "metadata": {},
   "outputs": [
    {
     "name": "stdout",
     "output_type": "stream",
     "text": [
      "**** Information from Washington's Wikipedia page ****\n",
      "1 - Statement:  (Washington, is, the capital of the United States of America.[4)\n",
      "1 - Fact:  the capital of the United States of America.[4\n",
      "2 - Statement:  (Washington, is, the principal city of the Washington metropolitan area, which has a population of 6,131,977.[6)\n",
      "2 - Fact:  the principal city of the Washington metropolitan area, which has a population of 6,131,977.[6\n",
      "3 - Statement:  (Washington, is, one of the most visited cities in the world, with more than 20 million annual tourists.[8][9]\n",
      ")\n",
      "3 - Fact:  one of the most visited cities in the world, with more than 20 million annual tourists.[8][9]\n",
      "\n",
      "4 - Statement:  (Washington, is, home to many national monuments and museums, which are primarily situated on or around the National Mall)\n",
      "4 - Fact:  home to many national monuments and museums, which are primarily situated on or around the National Mall\n"
     ]
    }
   ],
   "source": [
    "import spacy\n",
    "import textacy.extract\n",
    "\n",
    "### Load spaCy's English NLP model\n",
    "nlp = spacy.load('en')\n",
    "\n",
    "### The text we want to examine\n",
    "text = \"\"\"Washington, D.C., formally the District of Columbia and commonly referred to as Washington or D.C., is the capital of the United States of America.[4] Founded after the American Revolution as the seat of government of the newly independent country, Washington was named after George Washington, first President of the United States and Founding Father.[5] Washington is the principal city of the Washington metropolitan area, which has a population of 6,131,977.[6] As the seat of the United States federal government and several international organizations, the city is an important world political capital.[7] Washington is one of the most visited cities in the world, with more than 20 million annual tourists.[8][9]\n",
    "The signing of the Residence Act on July 16, 1790, approved the creation of a capital district located along the Potomac River on the country's East Coast. The U.S. Constitution provided for a federal district under the exclusive jurisdiction of the Congress and the District is therefore not a part of any state. The states of Maryland and Virginia each donated land to form the federal district, which included the pre-existing settlements of Georgetown and Alexandria. Named in honor of President George Washington, the City of Washington was founded in 1791 to serve as the new national capital. In 1846, Congress returned the land originally ceded by Virginia; in 1871, it created a single municipal government for the remaining portion of the District.\n",
    "Washington had an estimated population of 693,972 as of July 2017, making it the 20th largest American city by population. Commuters from the surrounding Maryland and Virginia suburbs raise the city's daytime population to more than one million during the workweek. The Washington metropolitan area, of which the District is the principal city, has a population of over 6 million, the sixth-largest metropolitan statistical area in the country.\n",
    "All three branches of the U.S. federal government are centered in the District: U.S. Congress (legislative), President (executive), and the U.S. Supreme Court (judicial). Washington is home to many national monuments and museums, which are primarily situated on or around the National Mall. The city hosts 177 foreign embassies as well as the headquarters of many international organizations, trade unions, non-profit, lobbying groups, and professional associations, including the Organization of American States, AARP, the National Geographic Society, the Human Rights Campaign, the International Finance Corporation, and the American Red Cross.\n",
    "A locally elected mayor and a 13‑member council have governed the District since 1973. However, Congress maintains supreme authority over the city and may overturn local laws. D.C. residents elect a non-voting, at-large congressional delegate to the House of Representatives, but the District has no representation in the Senate. The District receives three electoral votes in presidential elections as permitted by the Twenty-third Amendment to the United States Constitution, ratified in 1961.\"\"\"\n",
    "### Parse the text with spaCy\n",
    "### Our 'document' variable now contains a parsed version of text.\n",
    "document = nlp(text)\n",
    "\n",
    "### Extracting semi-structured statements\n",
    "statements = textacy.extract.semistructured_statements(document, \"Washington\")\n",
    "\n",
    "print(\"**** Information from Washington's Wikipedia page ****\")\n",
    "count = 1\n",
    "for statement in statements:\n",
    "    subject, verb, fact = statement\n",
    "    print(str(count) + \" - Statement: \", statement)\n",
    "    print(str(count) + \" - Fact: \", fact)\n",
    "    count += 1"
   ]
  },
  {
   "cell_type": "code",
   "execution_count": null,
   "metadata": {},
   "outputs": [],
   "source": []
  }
 ],
 "metadata": {
  "kernelspec": {
   "display_name": "Python 3",
   "language": "python",
   "name": "python3"
  },
  "language_info": {
   "codemirror_mode": {
    "name": "ipython",
    "version": 3
   },
   "file_extension": ".py",
   "mimetype": "text/x-python",
   "name": "python",
   "nbconvert_exporter": "python",
   "pygments_lexer": "ipython3",
   "version": "3.6.5"
  }
 },
 "nbformat": 4,
 "nbformat_minor": 2
}
