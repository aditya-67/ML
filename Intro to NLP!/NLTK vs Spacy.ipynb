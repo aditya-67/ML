{
 "cells": [
  {
   "cell_type": "code",
   "execution_count": 24,
   "metadata": {},
   "outputs": [
    {
     "name": "stdout",
     "output_type": "stream",
     "text": [
      "Mesut\n",
      "Özil\n",
      "is\n",
      "a\n",
      "German\n",
      "professional\n",
      "footballer\n",
      "who\n",
      "plays\n",
      "for\n",
      "Premier\n",
      "League\n",
      "club\n",
      "Arsenal\n",
      ".\n"
     ]
    }
   ],
   "source": [
    "import spacy\n",
    "nlp = spacy.load('en')\n",
    "text = \"Mesut Özil is a German professional footballer who plays for Premier League club Arsenal.\"\n",
    "doc = nlp(text)\n",
    "for sent in doc:\n",
    "    print(sent)"
   ]
  },
  {
   "cell_type": "code",
   "execution_count": 25,
   "metadata": {},
   "outputs": [
    {
     "name": "stdout",
     "output_type": "stream",
     "text": [
      "Mesut Özil is a German professional footballer who plays for Premier League club Arsenal.\n"
     ]
    }
   ],
   "source": [
    "import nltk\n",
    "from nltk.tokenize import sent_tokenize\n",
    "#nltk.download('punkt')\n",
    "sentence = sent_tokenize(text)\n",
    "\n",
    "for sent in sentence:\n",
    "    print(sent)"
   ]
  },
  {
   "cell_type": "code",
   "execution_count": 26,
   "metadata": {},
   "outputs": [
    {
     "name": "stdout",
     "output_type": "stream",
     "text": [
      "['Mesut', 'Özil', 'is', 'a', 'German', 'professional', 'footballer', 'who', 'plays', 'for', 'Premier', 'League', 'club', 'Arsenal', '.']\n"
     ]
    }
   ],
   "source": [
    "words = [w.text for w in doc]\n",
    "print(words)"
   ]
  },
  {
   "cell_type": "code",
   "execution_count": 27,
   "metadata": {},
   "outputs": [
    {
     "name": "stdout",
     "output_type": "stream",
     "text": [
      "['Mesut', 'Özil', 'is', 'a', 'German', 'professional', 'footballer', 'who', 'plays', 'for', 'Premier', 'League', 'club', 'Arsenal', '.']\n"
     ]
    }
   ],
   "source": [
    "from nltk.tokenize import word_tokenize\n",
    "words = word_tokenize(text)\n",
    "print(words)"
   ]
  },
  {
   "cell_type": "code",
   "execution_count": 28,
   "metadata": {},
   "outputs": [
    {
     "name": "stdout",
     "output_type": "stream",
     "text": [
      "Mesut NNP\n",
      "Özil NNP\n",
      "is VBZ\n",
      "a DT\n",
      "German JJ\n",
      "professional JJ\n",
      "footballer NN\n",
      "who WP\n",
      "plays VBZ\n",
      "for IN\n",
      "Premier NNP\n",
      "League NNP\n",
      "club NN\n",
      "Arsenal NNP\n",
      ". .\n"
     ]
    }
   ],
   "source": [
    "tokens = nlp(text)\n",
    "for token in tokens:\n",
    "    print(token.text,token.tag_)"
   ]
  },
  {
   "cell_type": "code",
   "execution_count": 29,
   "metadata": {},
   "outputs": [
    {
     "name": "stdout",
     "output_type": "stream",
     "text": [
      "[('Mesut', 'NNP'), ('Özil', 'NNP'), ('is', 'VBZ'), ('a', 'DT'), ('German', 'JJ'), ('professional', 'JJ'), ('footballer', 'NN'), ('who', 'WP'), ('plays', 'VBZ'), ('for', 'IN'), ('Premier', 'NNP'), ('League', 'NNP'), ('club', 'NN'), ('Arsenal', 'NNP'), ('.', '.')]\n"
     ]
    }
   ],
   "source": [
    "from nltk.tag import pos_tag\n",
    "tokens = word_tokenize(text)\n",
    "tags = pos_tag(tokens)\n",
    "\n",
    "print(tags)"
   ]
  },
  {
   "cell_type": "code",
   "execution_count": 30,
   "metadata": {},
   "outputs": [
    {
     "name": "stdout",
     "output_type": "stream",
     "text": [
      "Mesut PERSON\n",
      "Özil PERSON\n",
      "is \n",
      "a \n",
      "German NORP\n",
      "professional \n",
      "footballer \n",
      "who \n",
      "plays \n",
      "for \n",
      "Premier ORG\n",
      "League ORG\n",
      "club ORG\n",
      "Arsenal ORG\n",
      ". \n"
     ]
    }
   ],
   "source": [
    "tokens = nlp(text)\n",
    "for token in tokens:\n",
    "    print(token.text,token.ent_type_)"
   ]
  },
  {
   "cell_type": "code",
   "execution_count": 31,
   "metadata": {},
   "outputs": [
    {
     "name": "stdout",
     "output_type": "stream",
     "text": [
      "(S\n",
      "  (PERSON Mesut/NNP)\n",
      "  (ORGANIZATION Özil/NNP)\n",
      "  is/VBZ\n",
      "  a/DT\n",
      "  (GPE German/JJ)\n",
      "  professional/JJ\n",
      "  footballer/NN\n",
      "  who/WP\n",
      "  plays/VBZ\n",
      "  for/IN\n",
      "  Premier/NNP\n",
      "  League/NNP\n",
      "  club/NN\n",
      "  (ORGANIZATION Arsenal/NNP)\n",
      "  ./.)\n"
     ]
    }
   ],
   "source": [
    "import nltk\n",
    "#nltk.download('maxent_ne_chunker')\n",
    "#nltk.download('words')\n",
    "from nltk.chunk import ne_chunk\n",
    "tokens = word_tokenize(text)\n",
    "tags = pos_tag(tokens)\n",
    "entity = ne_chunk(tags)\n",
    "print(entity)"
   ]
  },
  {
   "cell_type": "code",
   "execution_count": null,
   "metadata": {},
   "outputs": [],
   "source": []
  }
 ],
 "metadata": {
  "kernelspec": {
   "display_name": "Python 3",
   "language": "python",
   "name": "python3"
  },
  "language_info": {
   "codemirror_mode": {
    "name": "ipython",
    "version": 3
   },
   "file_extension": ".py",
   "mimetype": "text/x-python",
   "name": "python",
   "nbconvert_exporter": "python",
   "pygments_lexer": "ipython3",
   "version": "3.6.5"
  }
 },
 "nbformat": 4,
 "nbformat_minor": 2
}
