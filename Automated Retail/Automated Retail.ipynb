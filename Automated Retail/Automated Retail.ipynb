{
 "cells": [
  {
   "cell_type": "code",
   "execution_count": 1,
   "metadata": {},
   "outputs": [],
   "source": [
    "import os\n",
    "import sys\n",
    "import glob\n",
    "\n",
    "import dlib\n",
    "from skimage import io\n",
    "from skimage.draw import polygon_perimeter\n",
    "import traceback"
   ]
  },
  {
   "cell_type": "code",
   "execution_count": 2,
   "metadata": {},
   "outputs": [],
   "source": [
    "options = dlib.simple_object_detector_training_options()\n",
    "options.add_left_right_image_flips = True\n",
    "options.C = 5\n",
    "options.num_threads = 2\n",
    "options.be_verbose = True"
   ]
  },
  {
   "cell_type": "code",
   "execution_count": 3,
   "metadata": {},
   "outputs": [],
   "source": [
    "detector_folder = \"detect\""
   ]
  },
  {
   "cell_type": "code",
   "execution_count": 4,
   "metadata": {},
   "outputs": [],
   "source": [
    "items = [\"food\",\"healthcare\"]"
   ]
  },
  {
   "cell_type": "code",
   "execution_count": null,
   "metadata": {},
   "outputs": [
    {
     "name": "stdout",
     "output_type": "stream",
     "text": [
      "Showing detections on the images in the test folder...\n",
      "Processing file: detect\\test\\1.jpg\n",
      "Number of objects detected in food: 0\n",
      "Press Enter to continue...\n",
      "Showing detections on the images in the test folder...\n",
      "Processing file: detect\\test\\1.jpg\n",
      "Number of objects detected in healthcare: 0\n",
      "Press Enter to continue...\n",
      "Showing detections on the images in the test folder...\n",
      "Processing file: detect\\test\\1378.jpg\n",
      "Number of objects detected in food: 0\n",
      "Press Enter to continue...\n",
      "Showing detections on the images in the test folder...\n",
      "Processing file: detect\\test\\1378.jpg\n",
      "Number of objects detected in healthcare: 0\n",
      "Press Enter to continue...\n",
      "Showing detections on the images in the test folder...\n",
      "Processing file: detect\\test\\2.jpg\n",
      "Number of objects detected in food: 0\n",
      "Press Enter to continue...\n",
      "Showing detections on the images in the test folder...\n",
      "Processing file: detect\\test\\2.jpg\n",
      "Number of objects detected in healthcare: 1\n",
      "Detection 0: Left: -60 Top: 286 Right: 881 Bottom: 485\n"
     ]
    },
    {
     "name": "stderr",
     "output_type": "stream",
     "text": [
      "Traceback (most recent call last):\n",
      "  File \"<ipython-input-5-d465fedc5b91>\", line 31, in <module>\n",
      "    img[rr, cc] = (0, 255, 0)\n",
      "IndexError: index 881 is out of bounds for axis 1 with size 800\n"
     ]
    },
    {
     "name": "stdout",
     "output_type": "stream",
     "text": [
      "Press Enter to continue...\n",
      "Showing detections on the images in the test folder...\n",
      "Processing file: detect\\test\\30.jpg\n"
     ]
    },
    {
     "name": "stderr",
     "output_type": "stream",
     "text": [
      "Traceback (most recent call last):\n",
      "  File \"<ipython-input-5-d465fedc5b91>\", line 31, in <module>\n",
      "    img[rr, cc] = (0, 255, 0)\n",
      "IndexError: index 755 is out of bounds for axis 0 with size 755\n"
     ]
    },
    {
     "name": "stdout",
     "output_type": "stream",
     "text": [
      "Number of objects detected in food: 1\n",
      "Detection 0: Left: 270 Top: 56 Right: 841 Bottom: 770\n",
      "Press Enter to continue...\n",
      "Showing detections on the images in the test folder...\n",
      "Processing file: detect\\test\\30.jpg\n",
      "Number of objects detected in healthcare: 1\n",
      "Detection 0: Left: 930 Top: 286 Right: 1822 Bottom: 485\n"
     ]
    }
   ],
   "source": [
    "for f in glob.glob(os.path.join(detector_folder, \"test/*.jpg\")):\n",
    "    for i in items:\n",
    "        training_xml_path = os.path.join(detector_folder, \"train\", i,\"train.xml\")\n",
    "        testing_xml_path = os.path.join(detector_folder, \"test\",\"test.xml\")\n",
    "        detector_svm = os.path.join(detector_folder,\"train\", i ,\"detector.svm\")\n",
    "\n",
    "        if not os.path.exists(detector_svm):\n",
    "            dlib.train_simple_object_detector(training_xml_path, detector_svm, options)\n",
    "\n",
    "        detector = dlib.simple_object_detector(detector_svm)\n",
    "\n",
    "\n",
    "        win_det = dlib.image_window()\n",
    "        win_det.set_image(detector)\n",
    "\n",
    "        print(\"Showing detections on the images in the test folder...\")\n",
    "        win = dlib.image_window()\n",
    "        win = dlib.image_window()\n",
    "        \n",
    "        print(\"Processing file: {}\".format(f))\n",
    "        img = io.imread(f)\n",
    "        dets = detector(img)\n",
    "        print(\"Number of objects detected in \"+ i +\": {}\".format(len(dets)))\n",
    "        bOverLays = False\n",
    "        for k, d in enumerate(dets):\n",
    "            print(\"Detection {}: Left: {} Top: {} Right: {} Bottom: {}\".format(\n",
    "                k, d.left(), d.top(), d.right(), d.bottom()))\n",
    "            rr,cc = polygon_perimeter([d.top(), d.top(), d.bottom(), d.bottom()],\n",
    "                                [d.right(), d.left(), d.left(), d.right()])\n",
    "            try:\n",
    "                img[rr, cc] = (0, 255, 0)\n",
    "                if bOverLays == False:\n",
    "                    bOverLays = True\n",
    "            except:\n",
    "                traceback.print_exc()\n",
    "                \n",
    "        # Save the image detections to a file for future review.\n",
    "        if bOverLays == True:\n",
    "            io.imsave(f.replace(\"test/\",\"output/\"), img)\n",
    "        win.clear_overlay()\n",
    "        win.set_image(img)\n",
    "        win.add_overlay(dets)\n",
    "        input(\"Press Enter to continue...\")"
   ]
  },
  {
   "cell_type": "code",
   "execution_count": null,
   "metadata": {},
   "outputs": [],
   "source": []
  }
 ],
 "metadata": {
  "kernelspec": {
   "display_name": "Python 3",
   "language": "python",
   "name": "python3"
  },
  "language_info": {
   "codemirror_mode": {
    "name": "ipython",
    "version": 3
   },
   "file_extension": ".py",
   "mimetype": "text/x-python",
   "name": "python",
   "nbconvert_exporter": "python",
   "pygments_lexer": "ipython3",
   "version": "3.6.5"
  }
 },
 "nbformat": 4,
 "nbformat_minor": 2
}
