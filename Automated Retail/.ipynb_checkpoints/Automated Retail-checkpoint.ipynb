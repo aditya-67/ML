{
 "cells": [
  {
   "cell_type": "code",
   "execution_count": null,
   "metadata": {},
   "outputs": [],
   "source": [
    "import os\n",
    "import sys\n",
    "import glob\n",
    "\n",
    "import dlib\n",
    "from skimage import io\n",
    "from skimage.draw import polygon_perimeter\n",
    "import traceback"
   ]
  },
  {
   "cell_type": "code",
   "execution_count": 2,
   "metadata": {},
   "outputs": [],
   "source": [
    "options = dlib.simple_object_detector_training_options()\n",
    "options.add_left_right_image_flips = True\n",
    "options.C = 5\n",
    "options.num_threads = 2\n",
    "options.be_verbose = True"
   ]
  },
  {
   "cell_type": "code",
   "execution_count": 3,
   "metadata": {},
   "outputs": [],
   "source": [
    "detector_folder = \"detect\""
   ]
  },
  {
   "cell_type": "code",
   "execution_count": 8,
   "metadata": {},
   "outputs": [],
   "source": [
    "training_xml_path = os.path.join(detector_folder, \"train\",\"Healthcare\",\"new.xml\")\n",
    "testing_xml_path = os.path.join(detector_folder, \"test\",\"test.xml\")\n",
    "detector_svm = os.path.join(detector_folder,\"train\",\"Healthcare\",\"detector.svm\")"
   ]
  },
  {
   "cell_type": "code",
   "execution_count": 9,
   "metadata": {},
   "outputs": [],
   "source": [
    "if not os.path.exists(detector_svm):\n",
    "    dlib.train_simple_object_detector(training_xml_path, detector_svm, options)"
   ]
  },
  {
   "cell_type": "code",
   "execution_count": 10,
   "metadata": {},
   "outputs": [
    {
     "ename": "RuntimeError",
     "evalue": "Unable to open file: train",
     "output_type": "error",
     "traceback": [
      "\u001b[1;31m---------------------------------------------------------------------------\u001b[0m",
      "\u001b[1;31mRuntimeError\u001b[0m                              Traceback (most recent call last)",
      "\u001b[1;32m<ipython-input-10-5bd0c197bcd7>\u001b[0m in \u001b[0;36m<module>\u001b[1;34m()\u001b[0m\n\u001b[0;32m      1\u001b[0m print(\"Training accuracy: {}\".format(\n\u001b[1;32m----> 2\u001b[1;33m     dlib.test_simple_object_detector(training_xml_path, detector_svm)))\n\u001b[0m",
      "\u001b[1;31mRuntimeError\u001b[0m: Unable to open file: train"
     ]
    }
   ],
   "source": [
    "print(\"Training accuracy: {}\".format(\n",
    "    dlib.test_simple_object_detector(training_xml_path, detector_svm)))"
   ]
  },
  {
   "cell_type": "code",
   "execution_count": 11,
   "metadata": {},
   "outputs": [
    {
     "ename": "RuntimeError",
     "evalue": "Unable to open file: 43.jpg",
     "output_type": "error",
     "traceback": [
      "\u001b[1;31m---------------------------------------------------------------------------\u001b[0m",
      "\u001b[1;31mRuntimeError\u001b[0m                              Traceback (most recent call last)",
      "\u001b[1;32m<ipython-input-11-adf8682b31f1>\u001b[0m in \u001b[0;36m<module>\u001b[1;34m()\u001b[0m\n\u001b[0;32m      1\u001b[0m print(\"Testing accuracy: {}\".format(\n\u001b[1;32m----> 2\u001b[1;33m     dlib.test_simple_object_detector(testing_xml_path, detector_svm)))\n\u001b[0m",
      "\u001b[1;31mRuntimeError\u001b[0m: Unable to open file: 43.jpg"
     ]
    }
   ],
   "source": [
    "print(\"Testing accuracy: {}\".format(\n",
    "    dlib.test_simple_object_detector(testing_xml_path, detector_svm)))"
   ]
  },
  {
   "cell_type": "code",
   "execution_count": 12,
   "metadata": {},
   "outputs": [],
   "source": [
    "detector = dlib.simple_object_detector(detector_svm)\n",
    "\n",
    "# We can look at the HOG filter we learned.  It should look like a Nutella Jar image.  Neat!\n",
    "win_det = dlib.image_window()\n",
    "win_det.set_image(detector)"
   ]
  },
  {
   "cell_type": "code",
   "execution_count": null,
   "metadata": {},
   "outputs": [
    {
     "name": "stdout",
     "output_type": "stream",
     "text": [
      "Processing file: detect\\test\\1.jpg\n",
      "Number of objects detected: 0\n",
      "Press Enter to continue...\n",
      "Processing file: detect\\test\\2.jpg\n",
      "Number of objects detected: 0\n",
      "Press Enter to continue...\n",
      "Processing file: detect\\test\\45.jpg\n",
      "Number of objects detected: 0\n",
      "Press Enter to continue...\n",
      "Processing file: detect\\test\\480243b0-80d1-0133-6ef0-0aecee5a8273.jpg\n",
      "Number of objects detected: 0\n",
      "Press Enter to continue...\n",
      "Processing file: detect\\test\\59.jpg\n",
      "Number of objects detected: 0\n",
      "Press Enter to continue...\n",
      "Processing file: detect\\test\\6_riNVS1J1-750x563.jpg\n",
      "Number of objects detected: 0\n",
      "Press Enter to continue...\n",
      "Processing file: detect\\test\\nutella3.jpg\n",
      "Number of objects detected: 0\n"
     ]
    }
   ],
   "source": [
    "win = dlib.image_window()\n",
    "for f in glob.glob(os.path.join(detector_folder, \"test/*.jpg\")):\n",
    "    print(\"Processing file: {}\".format(f))\n",
    "    img = io.imread(f)\n",
    "    dets = detector(img)\n",
    "    print(\"Number of objects detected: {}\".format(len(dets)))\n",
    "    bOverLays = False\n",
    "    for k, d in enumerate(dets):\n",
    "        print(\"Detection {}: Left: {} Top: {} Right: {} Bottom: {}\".format(\n",
    "            k, d.left(), d.top(), d.right(), d.bottom()))\n",
    "        rr,cc = polygon_perimeter([d.top(), d.top(), d.bottom(), d.bottom()],\n",
    "                             [d.right(), d.left(), d.left(), d.right()])\n",
    "        try:\n",
    "            img[rr, cc] = (255, 0, 0)\n",
    "            if bOverLays == False:\n",
    "                bOverLays = True\n",
    "        except:\n",
    "            traceback.print_exc()\n",
    "    # Save the image detections to a file for future review.\n",
    "    if bOverLays == True:\n",
    "        io.imsave(f.replace(\"test/\",\"output/\"), img)\n",
    "    win.clear_overlay()\n",
    "    win.set_image(img)\n",
    "    win.add_overlay(dets)\n",
    "    input(\"Press Enter to continue...\")"
   ]
  },
  {
   "cell_type": "code",
   "execution_count": null,
   "metadata": {},
   "outputs": [],
   "source": []
  }
 ],
 "metadata": {
  "kernelspec": {
   "display_name": "Python 3",
   "language": "python",
   "name": "python3"
  },
  "language_info": {
   "codemirror_mode": {
    "name": "ipython",
    "version": 3
   },
   "file_extension": ".py",
   "mimetype": "text/x-python",
   "name": "python",
   "nbconvert_exporter": "python",
   "pygments_lexer": "ipython3",
   "version": "3.6.5"
  }
 },
 "nbformat": 4,
 "nbformat_minor": 2
}
