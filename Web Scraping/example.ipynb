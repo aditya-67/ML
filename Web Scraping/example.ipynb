{
 "cells": [
  {
   "cell_type": "code",
   "execution_count": null,
   "metadata": {
    "collapsed": true
   },
   "outputs": [],
   "source": [
    "# Load the selenium webdriver\n",
    "from selenium import webdriver\n",
    "\n",
    "# Create a list of checkboxes that we will need to find and click\n",
    "chkboxes = ['Prop_Type_RESI', 'Prop_Subtype_RESI_0001', 'Status_A', 'Status_S']\n",
    "\n",
    "# Create a dict with the names of the input fields and the values they need passed:\n",
    "inputs = { 'City_Fill_In' : 'Stamping Ground', 'Price_From_L' : '250000', \n",
    "           'Price_Thru_L' : '500000', 'Status_Thru_Date_S' : '04/13/17'}\n",
    "\n",
    "# Create a dict with the names of the dropdown selectors from the first page\n",
    "selectorButtons = { 'Bedrooms_From' : '3', 'Bathrooms_From' : '2' }"
   ]
  },
  {
   "cell_type": "code",
   "execution_count": null,
   "metadata": {
    "collapsed": true
   },
   "outputs": [],
   "source": [
    "# Open a new browser\n",
    "browser = webdriver.Chrome()\n",
    "\n",
    "# Navigate to the property search URL\n",
    "browser.get('http://lbarmls.rapmls.com/scripts/mgrqispi.dll?APPNAME=Lexington&PRGNAME=MLSLogin&ARGUMENT=Mxir3qBJV2tVaCLNEdVCZw==&KeyRid=1')\n",
    "\n",
    "# Locate the submit button\n",
    "submit = browser.find_element_by_id('SubmitBtn0')\n",
    "\n",
    "# Defines a function that allows us to set attributes of the HTML elements\n",
    "def setAttribute(attrib, value, element):\n",
    "    argString = 'arguments[0].' + attrib +  ' = \"' + str(value) + '\"'\n",
    "    browser.execute_script(argString, element)\n",
    "    \n",
    "# Function that returns a dict containing the key-value pairs for the attributes of a given element\n",
    "def getAllElements(element):\n",
    "    return browser.execute_script('var items = {}; for (index = 0; index < arguments[0].attributes.length; ++index) { items[arguments[0].attributes[index].name] = arguments[0].attributes[index].value }; return items;', element)\n"
   ]
  },
  {
   "cell_type": "code",
   "execution_count": null,
   "metadata": {},
   "outputs": [],
   "source": [
    "# Check the appropriate checkboxes using a list comprehension\n",
    "[ browser.find_element_by_name(i).click() for i in chkboxes ]\n",
    "\n",
    "# Sets the bedroom and bathroom numbers\n",
    "for k, v in selectorButtons.items():\n",
    "    sbutton = browser.find_element_by_name(k)\n",
    "    sbutton.send_keys(v)\n",
    "    "
   ]
  },
  {
   "cell_type": "code",
   "execution_count": null,
   "metadata": {},
   "outputs": [],
   "source": [
    "# Find input fields and pass the values to them\n",
    "for k, v in inputs.items():\n",
    "    inField = browser.find_element_by_name(k)\n",
    "    if (inField.is_enabled() == False): \n",
    "        setAttribute('disabled', '', inField)\n",
    "        inField.send_keys(v)\n",
    "        \n",
    "        "
   ]
  },
  {
   "cell_type": "code",
   "execution_count": null,
   "metadata": {},
   "outputs": [],
   "source": [
    "# Click the stupid link to fill out the form to fill out the field for the city\n",
    "browser.execute_script(\"OpenCityWindow('City_Fill_In', '')\")\n",
    "\n",
    "# Get browser window handles\n",
    "handles = browser.window_handles\n",
    "\n",
    "# Switch to the pop-up window\n",
    "browser.switch_to.window(handles[1])"
   ]
  },
  {
   "cell_type": "code",
   "execution_count": null,
   "metadata": {
    "collapsed": true
   },
   "outputs": [],
   "source": [
    "# Submits the search query\n",
    "submit.click()"
   ]
  },
  {
   "cell_type": "code",
   "execution_count": null,
   "metadata": {
    "collapsed": true
   },
   "outputs": [],
   "source": []
  }
 ],
 "metadata": {
  "kernelspec": {
   "display_name": "Python 3",
   "language": "python",
   "name": "python3"
  },
  "language_info": {
   "codemirror_mode": {
    "name": "ipython",
    "version": 3
   },
   "file_extension": ".py",
   "mimetype": "text/x-python",
   "name": "python",
   "nbconvert_exporter": "python",
   "pygments_lexer": "ipython3",
   "version": "3.6.5"
  }
 },
 "nbformat": 4,
 "nbformat_minor": 1
}
